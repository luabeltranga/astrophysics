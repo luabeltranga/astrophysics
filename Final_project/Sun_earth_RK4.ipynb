{
 "cells": [
  {
   "cell_type": "code",
   "execution_count": 13,
   "metadata": {},
   "outputs": [],
   "source": [
    "#%matplotlib notebook\n",
    "import numpy as np\n",
    "import matplotlib.pyplot as plt\n",
    "import mpl_toolkits.mplot3d as Axes3D\n",
    "from Rk4 import solver\n",
    "\n",
    "\n",
    "#constants\n",
    "G=4*np.pi**2\n",
    "Msun = 1.98855e30 # Solar mass in kg\n",
    "au = 1.49598261e11 # 1 au in meters\n",
    "year= 3600*24*365\n",
    "\n",
    "#vy=6.27776068\n",
    "#vy=7.02483055\n",
    "#vy=7.69530476\n",
    "vy=8.31187496\n",
    "\n",
    "\n",
    "\n",
    "#initial conditions \n",
    "x=np.array([0,1])\n",
    "y=np.array([0,0])\n",
    "z=np.array([0,0])\n",
    "vx=np.array([0,0])\n",
    "vy=np.array([0,vy])\n",
    "vz=np.array([0,0])\n",
    "mass=np.array([1,3.00273e-6])\n",
    "\n",
    "#number of objects\n",
    "m=len(mass)\n",
    "\n",
    "\n",
    "\n",
    "#time grid\n",
    "dt=0.01\n",
    "t=np.arange(0,1e3+dt,dt)\n",
    "\n",
    "#number of points\n",
    "N=len(t)\n",
    "\n",
    "#saving coordinates and velocity as six consecutive vectors\n",
    "q=np.ones((m,6*N))\n",
    "\n",
    "\n",
    "\n",
    "Total_Energy=np.zeros(N)\n",
    "Total_L=np.zeros(N)\n",
    "#initial conditions\n",
    "q[:,:6] = np.array((x,y,z,vx,vy,vz)).transpose()\n",
    "\n",
    "\n",
    "#equations\n",
    "def ODE(t,q,mass):\n",
    "    #number of planets\n",
    "    n=len(mass)\n",
    "    f=np.zeros_like(q)\n",
    "    \n",
    "    #x equation\n",
    "    f[:,:3]=q[:,3:]\n",
    "    \n",
    "    #v equation\n",
    "    for i in range(n):\n",
    "        for j in range(n):\n",
    "            if i==j:\n",
    "                pass\n",
    "            else:\n",
    "                xij=q[i,:3]-q[j,:3]\n",
    "                f[i,3:]+=-G*mass[j]*xij/(np.linalg.norm(xij)**3)\n",
    "    return f\n",
    "\n",
    "#energy\n",
    "def total_energy(q,mass):\n",
    "    m=len(mass)\n",
    "    KE=0.\n",
    "    PE=0.\n",
    "    \n",
    "    for i in range(m):\n",
    "        KE+=mass[i]*(np.dot(q[i,3:],q[i,3:]))/2\n",
    "        for j in range(i):\n",
    "            xij=q[i,:3]-q[j,:3]\n",
    "            PE+=-G*mass[i]*mass[j]/np.linalg.norm(xij)\n",
    "        \n",
    "    \n",
    "    return KE+PE\n",
    "\n",
    "def total_l(q,mass):\n",
    "    m=len(mass)\n",
    "    L=0.\n",
    "    \n",
    "    for i in range(m):\n",
    "        r, v=q[i,:3],q[i,3:]\n",
    "        L+=np.linalg.norm(np.cross(r,mass[i]*v))\n",
    "    return L\n",
    "\n",
    "#time evolution\n",
    "for i in range(1,N):\n",
    "    q[:,6*(i):6*(i+1)]=solver(dt,t,q[:,6*(i-1):6*i],lambda t,x:ODE(t,x,mass))\n",
    "\n",
    "    \n",
    "#Energy     \n",
    "for i in range(N):\n",
    "    Total_Energy[i]=total_energy(q[:,6*(i):6*(i+1)],mass)\n",
    "    \n",
    "#L   \n",
    "for i in range(N):\n",
    "    Total_L[i]=total_l(q[:,6*(i):6*(i+1)],mass)\n",
    "    \n",
    "\n",
    "#indexes to access the coordinates and velocities\n",
    "indx_x=[i for i in range(6*N) if i%6==0]\n",
    "indx_y=[i for i in range(6*N) if i%6==1]\n",
    "indx_z=[i for i in range(6*N) if i%6==2]\n",
    "indx_vx=[i for i in range(6*N) if i%6==3]\n",
    "indx_vy=[i for i in range(6*N) if i%6==4]\n",
    "indx_vz=[i for i in range(6*N) if i%6==5]\n",
    "\n"
   ]
  },
  {
   "cell_type": "code",
   "execution_count": 14,
   "metadata": {
    "scrolled": true
   },
   "outputs": [
    {
     "data": {
      "image/png": "[encoded data removed]",
      "text/plain": [
       "<Figure size 432x288 with 1 Axes>"
      ]
     },
     "metadata": {
      "needs_background": "light"
     },
     "output_type": "display_data"
    }
   ],
   "source": [
    "plt.plot(q[1,indx_x],q[1,indx_y],label=f\" ecc={0.9}\")\n",
    "\n",
    "plt.legend()\n",
    "plt.grid()\n",
    "plt.gca().set_aspect('equal', adjustable='box')\n",
    "plt.savefig(f\"rk4_{0.9}ecc.jpeg\")\n",
    "plt.show()"
   ]
  },
  {
   "cell_type": "code",
   "execution_count": 7,
   "metadata": {},
   "outputs": [
    {
     "data": {
      "text/plain": [
       "-5.9373815129054047e-05"
      ]
     },
     "execution_count": 7,
     "metadata": {},
     "output_type": "execute_result"
    }
   ],
   "source": [
    "Total_Energy[0]"
   ]
  },
  {
   "cell_type": "code",
   "execution_count": 3,
   "metadata": {},
   "outputs": [],
   "source": [
    "#initial conditions \n",
    "x=np.array([0,1])\n",
    "y=np.array([0,0])\n",
    "z=np.array([0,0])\n",
    "vx=np.array([0,0])\n",
    "vy=np.array([0,6.27776068])\n",
    "vz=np.array([0,0])\n",
    "mass=np.array([1,3.00273e-6])\n",
    "q0= np.array((x,y,z,vx,vy,vz)).transpose()\n",
    "def ecc(q,mass,v,e0=0):\n",
    "    #set vy velocity\n",
    "    q0[1,4]=v\n",
    "    E=total_energy(q,mass)\n",
    "    L=total_L(q,mass)\n",
    "    miu=(mass[0]*mass[1])/(mass[0]+mass[1])\n",
    "    e=np.sqrt(1+(2*E*L**2)/(miu*(G*mass[0]*mass[1])**2))\n",
    "    return e-e0"
   ]
  },
  {
   "cell_type": "code",
   "execution_count": 9,
   "metadata": {},
   "outputs": [],
   "source": [
    "from scipy import optimize \n",
    "optimize.newton(lambda x:ecc(q0,mass,x,0.7),7)\n",
    "vy_init=np.zeros(4)\n",
    "ecc0=[0.25,0.5,0.75,0.9]\n",
    "for i in range(4):\n",
    "    vy_init[i]=optimize.newton(lambda x:ecc(q0,mass,x,ecc0[i]),7)"
   ]
  },
  {
   "cell_type": "code",
   "execution_count": 19,
   "metadata": {},
   "outputs": [
    {
     "data": {
      "text/plain": [
       "array([7.02483055, 7.69530476, 8.31187496, 8.66077398])"
      ]
     },
     "execution_count": 19,
     "metadata": {},
     "output_type": "execute_result"
    }
   ],
   "source": [
    "vy_init"
   ]
  },
  {
   "cell_type": "code",
   "execution_count": 15,
   "metadata": {},
   "outputs": [],
   "source": [
    "def delta_a(b):\n",
    "    delta=np.abs(b[1:]-b[:-1]/b[:-1])\n",
    "    return delta\n",
    "\n",
    "delta_E=delta_a(Total_Energy)\n",
    "delta_L=delta_a(Total_L)"
   ]
  },
  {
   "cell_type": "code",
   "execution_count": 16,
   "metadata": {},
   "outputs": [
    {
     "data": {
      "image/png": "[encoded data removed]",
      "text/plain": [
       "<Figure size 432x288 with 1 Axes>"
      ]
     },
     "metadata": {
      "needs_background": "light"
     },
     "output_type": "display_data"
    },
    {
     "data": {
      "image/png": "[encoded data removed]",
      "text/plain": [
       "<Figure size 432x288 with 1 Axes>"
      ]
     },
     "metadata": {
      "needs_background": "light"
     },
     "output_type": "display_data"
    }
   ],
   "source": [
    "\n",
    "plt.figure()\n",
    "plt.scatter(t[1:],delta_E ,marker=\".\",label=f\"dt={dt}\")\n",
    "plt.xlabel(\"años\")\n",
    "plt.ylabel(\"Absolute Change E\")\n",
    "plt.legend()\n",
    "plt.savefig(f\"Rk4_{dt}_E.jpeg\")\n",
    "plt.show()\n",
    "plt.scatter(t[1:], delta_L,marker=\".\",label=f\"dt={dt}\")\n",
    "plt.xlabel(\"años\")\n",
    "plt.ylabel(\"Absolute Change L\")\n",
    "plt.legend()\n",
    "plt.savefig(f\"Rk4_{dt}_L.jpeg\")\n",
    "plt.show()"
   ]
  },
  {
   "cell_type": "code",
   "execution_count": null,
   "metadata": {},
   "outputs": [],
   "source": []
  }
 ],
 "metadata": {
  "kernelspec": {
   "display_name": "Python 3",
   "language": "python",
   "name": "python3"
  },
  "language_info": {
   "codemirror_mode": {
    "name": "ipython",
    "version": 3
   },
   "file_extension": ".py",
   "mimetype": "text/x-python",
   "name": "python",
   "nbconvert_exporter": "python",
   "pygments_lexer": "ipython3",
   "version": "3.8.5"
  }
 },
 "nbformat": 4,
 "nbformat_minor": 4
}
