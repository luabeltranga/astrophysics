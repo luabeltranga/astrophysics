{
 "cells": [
  {
   "cell_type": "code",
   "execution_count": 38,
   "metadata": {},
   "outputs": [],
   "source": [
    "#%matplotlib notebook\n",
    "import numpy as np\n",
    "import matplotlib.pyplot as plt\n",
    "import mpl_toolkits.mplot3d as Axes3D\n",
    "from Rk4 import solver\n",
    "\n",
    "\n",
    "#constants\n",
    "G=4*np.pi**2 #Au**3 year**-2 Msun**-1\n",
    "Msun = 1.98855e30 # Solar mass in kg\n",
    "au = 1.49598261e11 # 1 au in meters\n",
    "year= 3600*24*365\n",
    "\n",
    "\n",
    "#initial conditions \n",
    "x=np.array([0,1])\n",
    "y=np.array([0,0])\n",
    "z=np.array([0,0])\n",
    "vx=np.array([0,0])\n",
    "vy=np.array([0,6.27776068])\n",
    "vz=np.array([0,0])\n",
    "mass=np.array([1,3.00273e-6])\n",
    "\n",
    "#number of objects\n",
    "m=len(mass)\n",
    "\n",
    "#equations\n",
    "def ODE(t,q,mass):\n",
    "    #number of planets\n",
    "    n=len(mass)\n",
    "    f=np.zeros_like(q)\n",
    "    \n",
    "    #x equation\n",
    "    f[:,:3]=q[:,3:]\n",
    "    \n",
    "    #v equation\n",
    "    for i in range(n):\n",
    "        for j in range(n):\n",
    "            if i==j:\n",
    "                pass\n",
    "            else:\n",
    "                xij=q[i,:3]-q[j,:3]\n",
    "                f[i,3:]+=-G*mass[j]*xij/(np.linalg.norm(xij))**3\n",
    "    return f\n",
    "\n",
    "#energy\n",
    "def total_energy(q,mass):\n",
    "    m=len(mass)\n",
    "    KE=0.\n",
    "    PE=0.\n",
    "    \n",
    "    for i in range(m):\n",
    "        KE+=mass[i]*(np.dot(q[i,3:],q[i,3:]))/2\n",
    "        for j in range(i):\n",
    "            xij=q[i,:3]-q[j,:3]\n",
    "            PE+=-G*mass[i]*mass[j]/np.linalg.norm(xij)\n",
    "        \n",
    "    \n",
    "    return KE+PE\n",
    "\n",
    "\n",
    "def total_L(q,mass):\n",
    "    m=len(mass)\n",
    "    L=0.\n",
    "    \n",
    "    for i in range(m):\n",
    "        r, v=q[i,:3],q[i,3:]\n",
    "        L+=np.linalg.norm(np.cross(r,m*v))\n",
    "    return L\n",
    "        \n",
    "\n",
    "#saving coordinates and velocity as consecutive vectors\n",
    "q=np.ones((m,6*2))\n",
    "\n",
    "#initial conditions\n",
    "q[:,:6] = np.array((x,y,z,vx,vy,vz)).transpose()\n",
    "\n",
    "\n",
    "def Rk4(q,mass,dt,ti,tf):\n",
    "    \n",
    "\n",
    "    #time grid\n",
    "    t=np.arange(ti,tf,dt)\n",
    "    dt=t[1]-t[0]\n",
    "    #number of points\n",
    "    N=len(t)\n",
    "    \n",
    "\n",
    "\n",
    "\n",
    "    #saving energy and angular momentum\n",
    "    Delta_Energy=np.zeros(N)\n",
    "    Delta_L=np.zeros(N)\n",
    "\n",
    "    #time evolution\n",
    "    for i in range(N):\n",
    "\n",
    "        #save old energy and angular momentum\n",
    "        old_TE=total_energy(q[:,:6],mass).copy()\n",
    "        old_L=total_L(q[:,:6],mass).copy()\n",
    "        #advance one step \n",
    "        q[:,6:12]=solver(dt,t,q[:,:6],lambda t,x:ODE(t,x,mass)).copy()\n",
    "        #save new energy and angular momentum\n",
    "        new_TE=total_energy(q[:,6:12],mass).copy()\n",
    "        new_L=total_L(q[:,6:12],mass).copy()\n",
    "        #save delta_E and delta_L\n",
    "        Delta_Energy[i]=np.abs((new_TE-old_TE)/old_TE)\n",
    "        Delta_L[i]=np.abs((new_L-old_L)/old_L)\n",
    "\n",
    "        #repeat cicle\n",
    "        q[:,:6]=q[:,6:12].copy()\n",
    "    \n",
    "    return (t,Delta_Energy,Delta_L)\n",
    "\n",
    "\n",
    "\n",
    "\n",
    "t,Delta_E, Delta_L= Rk4(q,mass,0.01,0,1e3)"
   ]
  },
  {
   "cell_type": "code",
   "execution_count": 40,
   "metadata": {
    "scrolled": true
   },
   "outputs": [
    {
     "data": {
      "image/png": "[encoded data removed]",
      "text/plain": [
       "<Figure size 432x288 with 1 Axes>"
      ]
     },
     "metadata": {
      "needs_background": "light"
     },
     "output_type": "display_data"
    }
   ],
   "source": [
    "plt.scatter(t[::100], Delta_E[::100],marker=\".\")\n",
    "plt.show()"
   ]
  },
  {
   "cell_type": "code",
   "execution_count": 41,
   "metadata": {},
   "outputs": [
    {
     "data": {
      "text/plain": [
       "-5.9384140327832524e-05"
      ]
     },
     "execution_count": 41,
     "metadata": {},
     "output_type": "execute_result"
    }
   ],
   "source": [
    "total_energy(q[:,:6],mass)"
   ]
  },
  {
   "cell_type": "code",
   "execution_count": null,
   "metadata": {},
   "outputs": [],
   "source": []
  }
 ],
 "metadata": {
  "kernelspec": {
   "display_name": "Python 3",
   "language": "python",
   "name": "python3"
  },
  "language_info": {
   "codemirror_mode": {
    "name": "ipython",
    "version": 3
   },
   "file_extension": ".py",
   "mimetype": "text/x-python",
   "name": "python",
   "nbconvert_exporter": "python",
   "pygments_lexer": "ipython3",
   "version": "3.8.5"
  }
 },
 "nbformat": 4,
 "nbformat_minor": 4
}
